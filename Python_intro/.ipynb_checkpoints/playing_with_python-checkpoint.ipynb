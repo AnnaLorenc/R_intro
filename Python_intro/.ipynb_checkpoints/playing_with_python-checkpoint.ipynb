{
 "cells": [
  {
   "cell_type": "markdown",
   "id": "5662c415",
   "metadata": {},
   "source": [
    "## Exercices for list/set comprehensions"
   ]
  },
  {
   "cell_type": "markdown",
   "id": "52fbbfe1",
   "metadata": {},
   "source": [
    "reversed range: either indicate start/stop/step, either use reversed and make it a list"
   ]
  },
  {
   "cell_type": "code",
   "execution_count": 108,
   "id": "5c86c3b0",
   "metadata": {},
   "outputs": [
    {
     "data": {
      "text/plain": [
       "[9, 8, 7, 6, 5, 4, 3, 2, 1]"
      ]
     },
     "execution_count": 108,
     "metadata": {},
     "output_type": "execute_result"
    }
   ],
   "source": [
    "[x for x in range(9,0,-1)]\n",
    "list(reversed(range(1,9)))"
   ]
  },
  {
   "cell_type": "markdown",
   "id": "f28cca50",
   "metadata": {},
   "source": [
    "#### Convert to percentages - use f\"something written{WILL BE CHANGED BY A VARIABLE}\""
   ]
  },
  {
   "cell_type": "code",
   "execution_count": 41,
   "id": "e99f3ddd",
   "metadata": {},
   "outputs": [
    {
     "data": {
      "text/plain": [
       "['20%', '10%', '100%', '95%']"
      ]
     },
     "execution_count": 41,
     "metadata": {},
     "output_type": "execute_result"
    }
   ],
   "source": [
    "[f\"{round(x*100)}\"+'%' for x in pc]"
   ]
  },
  {
   "cell_type": "markdown",
   "id": "691cce76",
   "metadata": {},
   "source": [
    "#### Obtaining a chessboard pattern - nested list from a comprehension. Also obtaining letters."
   ]
  },
  {
   "cell_type": "code",
   "execution_count": 116,
   "id": "f2241404",
   "metadata": {},
   "outputs": [],
   "source": [
    "row=[chr(x) for x in range(ord('a'),ord('h')+1)]\n",
    "column=[ str(x) for x in list(reversed(range(1,9)))]"
   ]
  },
  {
   "cell_type": "code",
   "execution_count": 119,
   "id": "0b3b3e1c",
   "metadata": {},
   "outputs": [],
   "source": [
    "A=[[x + y  for x in row] for y in column]"
   ]
  },
  {
   "cell_type": "code",
   "execution_count": 120,
   "id": "f744fb13",
   "metadata": {},
   "outputs": [
    {
     "name": "stdout",
     "output_type": "stream",
     "text": [
      "a8 b8 c8 d8 e8 f8 g8 h8\n",
      "a7 b7 c7 d7 e7 f7 g7 h7\n",
      "a6 b6 c6 d6 e6 f6 g6 h6\n",
      "a5 b5 c5 d5 e5 f5 g5 h5\n",
      "a4 b4 c4 d4 e4 f4 g4 h4\n",
      "a3 b3 c3 d3 e3 f3 g3 h3\n",
      "a2 b2 c2 d2 e2 f2 g2 h2\n",
      "a1 b1 c1 d1 e1 f1 g1 h1\n"
     ]
    },
    {
     "data": {
      "text/plain": [
       "[None, None, None, None, None, None, None, None]"
      ]
     },
     "execution_count": 120,
     "metadata": {},
     "output_type": "execute_result"
    }
   ],
   "source": [
    "[print(u) for u in [f\"{j}\" for j in [' '.join(i) for i in A]]]"
   ]
  },
  {
   "cell_type": "markdown",
   "id": "ac110720",
   "metadata": {},
   "source": [
    "## Scoping"
   ]
  },
  {
   "cell_type": "markdown",
   "id": "4d5cfb3e",
   "metadata": {},
   "source": [
    "####1  :.3f to have 3 decimal places"
   ]
  },
  {
   "cell_type": "code",
   "execution_count": 124,
   "id": "e28c4ee7",
   "metadata": {},
   "outputs": [],
   "source": [
    "def circumference_calc(radius):\n",
    "    circumference = 2 * 3.142 * radius\n",
    "    return circumference\n",
    "    "
   ]
  },
  {
   "cell_type": "code",
   "execution_count": 129,
   "id": "e08c5d0e",
   "metadata": {},
   "outputs": [],
   "source": [
    "radius=2"
   ]
  },
  {
   "cell_type": "code",
   "execution_count": 134,
   "id": "7464ff3c",
   "metadata": {},
   "outputs": [
    {
     "name": "stdout",
     "output_type": "stream",
     "text": [
      "The circumference of a circle of 90 is:565.560cm\n"
     ]
    }
   ],
   "source": [
    "print(f\"The circumference of a circle of {radius} is:{circumference_calc(radius):.3f}cm\")"
   ]
  },
  {
   "cell_type": "markdown",
   "id": "7fb12257",
   "metadata": {},
   "source": [
    "####2"
   ]
  },
  {
   "cell_type": "code",
   "execution_count": 132,
   "id": "339a6295",
   "metadata": {},
   "outputs": [
    {
     "name": "stdout",
     "output_type": "stream",
     "text": [
      "The circumference of a circle of radius 90cm is:565.56cm\n"
     ]
    }
   ],
   "source": [
    "def circumference_calc(radius):\n",
    "    circumference = 2 * 3.142 * radius\n",
    "    return circumference\n",
    "\n",
    "radius = 90\n",
    "circumference_calc(90)\n",
    "print(f\"The circumference of a circle of radius 90cm is: {circumference_calc(90):.2f}cm\")"
   ]
  },
  {
   "cell_type": "markdown",
   "id": "a9087c65",
   "metadata": {},
   "source": [
    "## OOP"
   ]
  },
  {
   "cell_type": "code",
   "execution_count": 136,
   "id": "fd1003c6",
   "metadata": {},
   "outputs": [],
   "source": [
    "class Individual:\n",
    "    Counter = 0\n",
    "    \n",
    "    @classmethod\n",
    "    def AddOne(self):\n",
    "        self.Counter += 1\n",
    "        \n",
    "    def __init__(self, character_name):\n",
    "        self.character_name = character_name\n",
    "        self.happy = True\n",
    "        self.AddOne()\n",
    "        self.id = self.Counter\n",
    "        \n",
    "    def __str__(self):\n",
    "        return f'Instance: {self.id} {self.character_name}'\n",
    "    \n",
    "    def get_character_name(self):\n",
    "        return self.character_name\n",
    "    \n",
    "    def is_happy(self):\n",
    "        return self.happy\n",
    "    \n",
    "    def switch_mood(self):\n",
    "        self.happy = not self.happy\n",
    "        \n",
    "    def speak(self):\n",
    "        if(self.happy):\n",
    "            return f'Hello, I am {self.character_name}'\n",
    "        else:\n",
    "            return 'Go away!'"
   ]
  },
  {
   "cell_type": "code",
   "execution_count": 140,
   "id": "f757c479",
   "metadata": {},
   "outputs": [],
   "source": [
    "ind1=Individual(\"Buster\")"
   ]
  },
  {
   "cell_type": "code",
   "execution_count": 146,
   "id": "ca274d87",
   "metadata": {},
   "outputs": [
    {
     "data": {
      "text/plain": [
       "'Hello, I am Buster'"
      ]
     },
     "execution_count": 146,
     "metadata": {},
     "output_type": "execute_result"
    }
   ],
   "source": [
    "ind1.switch_mood()\n",
    "ind1.speak()"
   ]
  },
  {
   "cell_type": "markdown",
   "id": "b78ae681",
   "metadata": {},
   "source": [
    "## Generators"
   ]
  },
  {
   "cell_type": "markdown",
   "id": "4864db94",
   "metadata": {},
   "source": [
    "Make a generator as a function\n",
    "Assign an instance (here _even_number_generator_) of a generator\n",
    "Obtain consecutive numbers with next()\n",
    "When trying to run it beyond the encoded break, it does not do."
   ]
  },
  {
   "cell_type": "code",
   "execution_count": 148,
   "id": "fb5791a7",
   "metadata": {},
   "outputs": [],
   "source": [
    "def all_even():\n",
    "    n = 0\n",
    "    while True:\n",
    "        yield n\n",
    "        n += 2"
   ]
  },
  {
   "cell_type": "code",
   "execution_count": 154,
   "id": "9ffb0488",
   "metadata": {},
   "outputs": [
    {
     "name": "stdout",
     "output_type": "stream",
     "text": [
      "0\n",
      "2\n",
      "4\n",
      "6\n",
      "8\n"
     ]
    }
   ],
   "source": [
    "even_number_generator = all_even()\n",
    "\n",
    "for i in range(5):\n",
    "    even_number = next(even_number_generator)\n",
    "    print(even_number)"
   ]
  },
  {
   "cell_type": "markdown",
   "id": "cfb99bd5",
   "metadata": {},
   "source": [
    "Make a generator that returns the phrase: “10 green bottles hanging on the wall!”. On the next iteration,\n",
    "there will be 9 bottles – and so on until no bottles remain."
   ]
  },
  {
   "cell_type": "code",
   "execution_count": 158,
   "id": "4e53189c",
   "metadata": {},
   "outputs": [],
   "source": [
    "def bottle_gen():\n",
    "    n = 10\n",
    "    while n >=0:\n",
    "        yield print(f\"{n} green bottles hanging on the wall!\")\n",
    "        n += -1\n"
   ]
  },
  {
   "cell_type": "code",
   "execution_count": 160,
   "id": "6ff0ad27",
   "metadata": {},
   "outputs": [
    {
     "name": "stdout",
     "output_type": "stream",
     "text": [
      "10 green bottles hanging on the wall!\n",
      "None\n",
      "9 green bottles hanging on the wall!\n",
      "None\n",
      "8 green bottles hanging on the wall!\n",
      "None\n",
      "7 green bottles hanging on the wall!\n",
      "None\n",
      "6 green bottles hanging on the wall!\n",
      "None\n",
      "5 green bottles hanging on the wall!\n",
      "None\n",
      "4 green bottles hanging on the wall!\n",
      "None\n",
      "3 green bottles hanging on the wall!\n",
      "None\n",
      "2 green bottles hanging on the wall!\n",
      "None\n",
      "1 green bottles hanging on the wall!\n",
      "None\n"
     ]
    }
   ],
   "source": [
    "bottle_runner_gen = bottle_gen()\n",
    "\n",
    "for i in range(10):\n",
    "    bottle_runner = next(bottle_runner_gen)\n",
    "    print(bottle_runner)"
   ]
  },
  {
   "cell_type": "code",
   "execution_count": 162,
   "id": "6014a602",
   "metadata": {},
   "outputs": [
    {
     "ename": "StopIteration",
     "evalue": "",
     "output_type": "error",
     "traceback": [
      "\u001b[0;31m---------------------------------------------------------------------------\u001b[0m",
      "\u001b[0;31mStopIteration\u001b[0m                             Traceback (most recent call last)",
      "Input \u001b[0;32mIn [162]\u001b[0m, in \u001b[0;36m<module>\u001b[0;34m\u001b[0m\n\u001b[0;32m----> 1\u001b[0m \u001b[38;5;28;43mnext\u001b[39;49m\u001b[43m(\u001b[49m\u001b[43mbottle_runner_gen\u001b[49m\u001b[43m)\u001b[49m\n",
      "\u001b[0;31mStopIteration\u001b[0m: "
     ]
    }
   ],
   "source": [
    "next(bottle_runner_gen)"
   ]
  },
  {
   "cell_type": "markdown",
   "id": "767b252d",
   "metadata": {},
   "source": [
    "Write a generator that upon every iteration returns a letter (in order) from the word ‘Sisyphus’. On\n",
    "reaching the end of the word, the generator should return to the start, and so on, in perpetuity. Retrieve\n",
    "the first 50 letters from this generator and name the script sisyphus.py."
   ]
  },
  {
   "cell_type": "code",
   "execution_count": 174,
   "id": "08fbf008",
   "metadata": {},
   "outputs": [],
   "source": [
    "def break_sisyphus():\n",
    "    letters = [char for char in 'sisyphus']\n",
    "    n = 0\n",
    "    while n <= len(letters):\n",
    "        yield letters[n]\n",
    "        n += 1\n",
    "        if(n == len(letters) ):\n",
    "            n = 0\n",
    "        "
   ]
  },
  {
   "cell_type": "code",
   "execution_count": 175,
   "id": "354f2921",
   "metadata": {},
   "outputs": [
    {
     "name": "stdout",
     "output_type": "stream",
     "text": [
      "s\n",
      "i\n",
      "s\n",
      "y\n",
      "p\n",
      "h\n",
      "u\n",
      "s\n",
      "s\n",
      "i\n",
      "s\n",
      "y\n",
      "p\n",
      "h\n",
      "u\n"
     ]
    }
   ],
   "source": [
    "sisyphus_gen = break_sisyphus()\n",
    "for i in range(15):\n",
    "    letter = next(sisyphus_gen)\n",
    "    print(letter)"
   ]
  },
  {
   "cell_type": "markdown",
   "id": "cd16bef0",
   "metadata": {},
   "source": [
    "Modify the generator created in the previous exercise to take an argument which corresponds to the\n",
    "word that should be repeated, one letter at a time. Iterate over this generator as many times you wish\n",
    "and call this new script"
   ]
  },
  {
   "cell_type": "code",
   "execution_count": 176,
   "id": "cd324016",
   "metadata": {},
   "outputs": [],
   "source": [
    "def break_sisyphus_any(word):\n",
    "    letters = [char for char in word]\n",
    "    n = 0\n",
    "    while n <= len(letters):\n",
    "        yield letters[n]\n",
    "        n += 1\n",
    "        if(n == len(letters) ):\n",
    "            n = 0"
   ]
  },
  {
   "cell_type": "code",
   "execution_count": 177,
   "id": "5265a416",
   "metadata": {},
   "outputs": [
    {
     "name": "stdout",
     "output_type": "stream",
     "text": [
      "k\n",
      "o\n",
      "s\n",
      "t\n",
      "a\n",
      "n\n",
      "t\n",
      "y\n",
      "n\n",
      "o\n",
      "p\n",
      "o\n",
      "l\n",
      "i\n",
      "t\n"
     ]
    }
   ],
   "source": [
    "sisyphus_gen = break_sisyphus_any(\"kostantynopolitanczykowianeczka\")\n",
    "for i in range(15):\n",
    "    letter = next(sisyphus_gen)\n",
    "    print(letter)"
   ]
  },
  {
   "cell_type": "markdown",
   "id": "9f5c3cd0",
   "metadata": {},
   "source": [
    "Write a generator to produce The Fibonacci Sequence of numbers. In this series, the next number is\n",
    "found by adding up the two numbers before it:"
   ]
  },
  {
   "cell_type": "code",
   "execution_count": 184,
   "id": "05d2daf5",
   "metadata": {},
   "outputs": [],
   "source": [
    "def fibonacci():\n",
    "    a = 0\n",
    "    b= 1\n",
    "    while True:\n",
    "        yield a\n",
    "        new_b = a + b\n",
    "        a = b\n",
    "        b = new_b\n",
    "        "
   ]
  },
  {
   "cell_type": "code",
   "execution_count": 185,
   "id": "f29ab14a",
   "metadata": {},
   "outputs": [
    {
     "name": "stdout",
     "output_type": "stream",
     "text": [
      "0\n",
      "1\n",
      "1\n",
      "2\n",
      "3\n",
      "5\n",
      "8\n",
      "13\n",
      "21\n",
      "34\n",
      "55\n",
      "89\n",
      "144\n",
      "233\n",
      "377\n"
     ]
    }
   ],
   "source": [
    "fibonacci_gen = fibonacci()\n",
    "for i in range(15):\n",
    "    number = next(fibonacci_gen)\n",
    "    print(number)"
   ]
  },
  {
   "cell_type": "code",
   "execution_count": null,
   "id": "90604a99",
   "metadata": {},
   "outputs": [],
   "source": []
  }
 ],
 "metadata": {
  "kernelspec": {
   "display_name": "Python 3 (ipykernel)",
   "language": "python",
   "name": "python3"
  },
  "language_info": {
   "codemirror_mode": {
    "name": "ipython",
    "version": 3
   },
   "file_extension": ".py",
   "mimetype": "text/x-python",
   "name": "python",
   "nbconvert_exporter": "python",
   "pygments_lexer": "ipython3",
   "version": "3.8.12"
  }
 },
 "nbformat": 4,
 "nbformat_minor": 5
}
