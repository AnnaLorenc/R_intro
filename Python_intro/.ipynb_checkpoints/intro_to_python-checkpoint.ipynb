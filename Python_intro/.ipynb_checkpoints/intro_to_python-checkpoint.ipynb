{
 "cells": [
  {
   "cell_type": "markdown",
   "id": "38bd728e",
   "metadata": {},
   "source": [
    "# Introduction to Python"
   ]
  },
  {
   "cell_type": "markdown",
   "id": "9b546893",
   "metadata": {},
   "source": [
    " \n",
    " This is a very rudimentary introduction, to help you follow the scRNAseq workshops. There is a big community of single cell biologists working in Python and even if you are a mainly R person and intend to use Seurat universe/SingleCellExperiment universe, it is worth to understand the code. \n",
    " \n",
    "For a proper Python introduction/course see for example\n",
    "**Software Carpentry courses** \n",
    "https://swcarpentry.github.io/python-novice-inflammation/  \n",
    "http://swcarpentry.github.io/python-novice-gapminder/  \n",
    "Babraham institute Python course  \n",
    "https://www.bioinformatics.babraham.ac.uk/training.html \n",
    "\n",
    "**Instructions  how to install Python and Jupyter:**\n",
    "http://swcarpentry.github.io/python-novice-gapminder/setup.html\n",
    "\n",
    "\n"
   ]
  },
  {
   "cell_type": "markdown",
   "id": "b79dcfab",
   "metadata": {},
   "source": [
    "### Jupyter notebook"
   ]
  },
  {
   "cell_type": "markdown",
   "id": "7780b87b",
   "metadata": {},
   "source": [
    "We will be working with Jupyter notebooks as Python programming environment.\n",
    " To install Jupyter on your computer\n",
    " To start a notebook, type jupyter notebook NAME  \n",
    " Cells\n",
    " command mode (cell outline blue) or edit mode\n",
    " Executing a cell content by shift enter or triangle right\n",
    " You can add cells, change their content\n",
    "     # starts a comment\n"
   ]
  },
  {
   "cell_type": "markdown",
   "id": "e46ef0b8",
   "metadata": {},
   "source": [
    "\n",
    "To start a notebook from commandline, type: \n",
    "`jupyter notebook NOTEBOOKNAME`\n",
    "(substitute NOTEBOOKNAME with the name of your .ipyinb file or leave empty if you don't have one yet)\n",
    "\n",
    "In a notebook, code and text (in Markdown format) is located in cells. You can select a cell in **\"edit\"** mode - by clicking in it - it allows you to change cell content (cell outline is green). **\"Command\"** mode let's you execute the cell content (cell outline is blue).\n",
    "To execute cell content, click on it and press SHIFT+ENTER or the triangle from Jupyter menu.\n",
    "\n",
    "After the content was executed, you can enter the cell again by clicking and modify it.\n",
    "\n",
    "Remember to save your changes if you want to keep them.\n",
    "\n",
    "To add new cells, use 'Insert' from the menu, or A (above) B (below) when in the command mode. \n"
   ]
  },
  {
   "cell_type": "markdown",
   "id": "7a38ff01",
   "metadata": {},
   "source": [
    "### Data objects in Python"
   ]
  },
  {
   "cell_type": "markdown",
   "id": "daa6b572",
   "metadata": {},
   "source": [
    "Assigning variables happens with \" = \"\n",
    "Python has built-in data objects:\n",
    " - scalars - single values\n",
    " `a = 3` \n",
    " `another_important_value = 'giraffe'`\n",
    " - lists  \n",
    " `mylist = [3,4,9.5,11]`\n",
    " `mylist = [a, 3.5, 'dog']`  \n",
    " - tuples\n",
    " - sets\n",
    "`tree_set = {'birch', 'ash', 'oak'}`  #set has unique elements\n",
    " - dictionaries\n",
    "`simple_dictionary = {'tree'='arbre', 'bee'='abeille', 'bread'='pain'}` \n",
    " \n",
    "Many data objects can be nested within other one,for example\n",
    "\n",
    "`trees_dictionary = {'birch':[1,4,12], 'ash':[98,2], 'oak':[1,2]}`\n",
    "\n",
    "Many packages come with specific data containers, build from simpler ones.\n"
   ]
  },
  {
   "cell_type": "code",
   "execution_count": null,
   "id": "6223ed8f",
   "metadata": {},
   "outputs": [],
   "source": [
    "###"
   ]
  },
  {
   "cell_type": "code",
   "execution_count": 4,
   "id": "1de3d279",
   "metadata": {},
   "outputs": [],
   "source": [
    "mylist = [98,50,17,78]"
   ]
  },
  {
   "cell_type": "code",
   "execution_count": 29,
   "id": "0871ac82",
   "metadata": {},
   "outputs": [],
   "source": []
  },
  {
   "cell_type": "code",
   "execution_count": 31,
   "id": "bef86ebd",
   "metadata": {},
   "outputs": [
    {
     "data": {
      "text/plain": [
       "dict"
      ]
     },
     "execution_count": 31,
     "metadata": {},
     "output_type": "execute_result"
    }
   ],
   "source": [
    "type(trees_dictionary)"
   ]
  },
  {
   "cell_type": "markdown",
   "id": "54073ba4",
   "metadata": {},
   "source": [
    " functions, evoked by function(arg)\n",
    "cell_dictionary = {'Tcell':['CD4', 'CD8', 'other'], 'Bcell':['plasma_cell', 'other'], 'ILC':[]}\n"
   ]
  },
  {
   "cell_type": "code",
   "execution_count": 7,
   "id": "07f977cb",
   "metadata": {},
   "outputs": [
    {
     "data": {
      "text/plain": [
       "4"
      ]
     },
     "execution_count": 7,
     "metadata": {},
     "output_type": "execute_result"
    }
   ],
   "source": [
    "len(mylist)"
   ]
  },
  {
   "cell_type": "markdown",
   "id": "4bcfc689",
   "metadata": {},
   "source": [
    "  Some functions are \"attached\" to specific types of data containers and are called methods  object.method\n",
    "  \t\tobject.method()\n",
    "  \tmylist. TAB shows available methods\t\n",
    "  \n"
   ]
  },
  {
   "cell_type": "code",
   "execution_count": 8,
   "id": "5c3fca59",
   "metadata": {},
   "outputs": [],
   "source": [
    "mylist.sort()"
   ]
  },
  {
   "cell_type": "markdown",
   "id": "ed51382b",
   "metadata": {},
   "source": [
    "What has happened? "
   ]
  },
  {
   "cell_type": "code",
   "execution_count": 9,
   "id": "f37fb05b",
   "metadata": {},
   "outputs": [
    {
     "data": {
      "text/plain": [
       "[17, 50, 78, 98]"
      ]
     },
     "execution_count": 9,
     "metadata": {},
     "output_type": "execute_result"
    }
   ],
   "source": [
    "mylist"
   ]
  },
  {
   "cell_type": "markdown",
   "id": "7d043546",
   "metadata": {},
   "source": [
    "### Accessing list elements"
   ]
  },
  {
   "cell_type": "code",
   "execution_count": null,
   "id": "974b510f",
   "metadata": {},
   "outputs": [],
   "source": [
    "  mylist[3]\n",
    "  mylist[0]\n",
    "  mylist[0:2]"
   ]
  },
  {
   "cell_type": "code",
   "execution_count": null,
   "id": "3af0a5d8",
   "metadata": {},
   "outputs": [],
   "source": [
    "mylist.append(1)"
   ]
  },
  {
   "cell_type": "markdown",
   "id": "8151d93b",
   "metadata": {},
   "source": [
    "### Getting help in jupyter"
   ]
  },
  {
   "cell_type": "code",
   "execution_count": null,
   "id": "938536a7",
   "metadata": {},
   "outputs": [],
   "source": [
    "  \n",
    "  ?function, ?objectname, ?objectname.method\n"
   ]
  },
  {
   "cell_type": "markdown",
   "id": "7d7c9f15",
   "metadata": {},
   "source": [
    "### Comprehensions"
   ]
  },
  {
   "cell_type": "code",
   "execution_count": null,
   "id": "65cf7b7c",
   "metadata": {},
   "outputs": [],
   "source": [
    "  Comprehensions are Python way of 'vectorising' functions or using lapply() family.\n",
    "  We'll be using list comprehesions, but they exist for other objects too\n",
    "  \n",
    "  [new_value for value in lst1]\n",
    "  \n",
    " [new_value for value if value in lst2]    \n"
   ]
  },
  {
   "cell_type": "markdown",
   "id": "43d8d1cd",
   "metadata": {},
   "source": [
    "### Accessing functions from different packages"
   ]
  },
  {
   "cell_type": "code",
   "execution_count": null,
   "id": "83d0daaf",
   "metadata": {},
   "outputs": [],
   "source": [
    "\n",
    "import xx as x\n",
    "import x\n",
    "from x import y\n",
    "\n",
    "\n",
    "panda.\n",
    "pd."
   ]
  },
  {
   "cell_type": "code",
   "execution_count": null,
   "id": "d2868d92",
   "metadata": {},
   "outputs": [],
   "source": [
    "def FUNCTIONNAME(arg1, arg2):\n",
    "    ....\n",
    "    return"
   ]
  },
  {
   "cell_type": "code",
   "execution_count": 13,
   "id": "d2e75fde",
   "metadata": {},
   "outputs": [],
   "source": []
  },
  {
   "cell_type": "code",
   "execution_count": null,
   "id": "0721655d",
   "metadata": {},
   "outputs": [],
   "source": []
  }
 ],
 "metadata": {
  "kernelspec": {
   "display_name": "Python 3 (ipykernel)",
   "language": "python",
   "name": "python3"
  },
  "language_info": {
   "codemirror_mode": {
    "name": "ipython",
    "version": 3
   },
   "file_extension": ".py",
   "mimetype": "text/x-python",
   "name": "python",
   "nbconvert_exporter": "python",
   "pygments_lexer": "ipython3",
   "version": "3.8.12"
  }
 },
 "nbformat": 4,
 "nbformat_minor": 5
}
