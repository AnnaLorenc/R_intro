{
 "cells": [
  {
   "cell_type": "markdown",
   "id": "a3f5628a",
   "metadata": {},
   "source": [
    "# Introduction to Python"
   ]
  },
  {
   "cell_type": "markdown",
   "id": "1c2cff33",
   "metadata": {},
   "source": [
    " \n",
    " This is a very rudimentary introduction, to help you follow the scRNAseq workshops. There is a big community of single cell biologists working in Python and even if you are a mainly R person and intend to use Seurat universe/SingleCellExperiment universe, it is worth to understand the code. \n",
    " \n",
    "For a proper Python introduction/course see for example: \n",
    "\n",
    "**Software Carpentry courses**  \n",
    "\n",
    "https://swcarpentry.github.io/python-novice-inflammation/  \n",
    "http://swcarpentry.github.io/python-novice-gapminder/  \n",
    "\n",
    "Babraham institute Python course  \n",
    "\n",
    "https://www.bioinformatics.babraham.ac.uk/training.html \n",
    "\n",
    "\n",
    "How to think lika a computer scientist  \n",
    "http://openbookproject.net/thinkcs/python/english3e/\n",
    "\n",
    "Whirlwind tour of Python - aimed at people with experience in other programming languages  \n",
    "https://nbviewer.org/github/jakevdp/WhirlwindTourOfPython/blob/master/Index.ipynb\n",
    "\n",
    "**Instructions  how to install Python and Jupyter:**  \n",
    "\n",
    "http://swcarpentry.github.io/python-novice-gapminder/setup.html \n",
    "https://realpython.com/jupyter-notebook-introduction/#starting-the-jupyter-notebook-server \n",
    "\n",
    "\n"
   ]
  },
  {
   "cell_type": "markdown",
   "id": "b8ebd4ba",
   "metadata": {},
   "source": [
    "### Jupyter notebook"
   ]
  },
  {
   "cell_type": "markdown",
   "id": "a256f821",
   "metadata": {},
   "source": [
    "\n",
    "To start a notebook from commandline, type: \n",
    "`jupyter notebook NOTEBOOKNAME`\n",
    "(substitute NOTEBOOKNAME with the name of your .ipyinb file or leave empty if you don't have one yet).\n",
    "\n",
    "In a notebook, code and text (in Markdown format) is located in cells. You can select a cell in **\"edit\"** mode - by clicking in it - it allows you to change cell content (cell outline is green). **\"Command\"** mode let's you execute the cell content (cell outline is blue), move cells around etc.\n",
    "To execute cell content, click on it and press SHIFT+ENTER or the triangle from Jupyter buttons.\n",
    "\n",
    "After the content was executed, you can enter the cell again by clicking and modify it.\n",
    "\n",
    "Remember to save your changes if you want to keep them.\n",
    "\n",
    "To add new cells, use 'Insert' from the menu, or A (above) B (below) when in the command mode. \n",
    "\n",
    "Cells  contain either  code, either non-interpreted text (see Markdown and Code in the drop down menu). Within code # starts a comment.\n"
   ]
  },
  {
   "cell_type": "markdown",
   "id": "ce4c0a6e",
   "metadata": {},
   "source": [
    "### Data objects in Python"
   ]
  },
  {
   "cell_type": "markdown",
   "id": "92b07783",
   "metadata": {},
   "source": [
    "Assigning variables happens with \" = \"\n",
    "Python has built-in data objects:\n",
    " - scalars - single values\n",
    " `a = 3` \n",
    "  `another_important_value = 'giraffe'`\n",
    " - lists  \n",
    " `mylist = [3, 4, 9.5, 11]`\n",
    " `mylist = [a, 3.5, 'dog']`  \n",
    " - tuples \n",
    " `julia = (\"Julia\", \"Roberts\", 1967, \"Duplicity\", 2009, \"Actress\", \"Atlanta, Georgia\")` #unmutable set of elements to be hold together\n",
    " - sets\n",
    "`tree_set = {'birch', 'ash', 'oak'}`  #set has unique elements\n",
    " - dictionaries\n",
    "`simple_dictionary = {'tree'='arbre', 'bee'='abeille', 'bread'='pain'}` \n",
    " \n",
    "Many data objects can be nested within other one, for example here keys of the dictionary are tree names (strings) and values are their numbers (lists of integers)\n",
    "\n",
    "`trees_dictionary = {'birch':[1,4,12], 'ash':[98,2,0], 'oak':[1,2,0]}`\n",
    "\n",
    "Many packages come with specific data containers, build from simpler ones.\n"
   ]
  },
  {
   "cell_type": "markdown",
   "id": "921d6ace",
   "metadata": {},
   "source": [
    "### Functions and methods"
   ]
  },
  {
   "cell_type": "markdown",
   "id": "25d75d43",
   "metadata": {},
   "source": [
    "We create some objects to work with in the following examples:"
   ]
  },
  {
   "cell_type": "code",
   "execution_count": 27,
   "id": "b327e503",
   "metadata": {},
   "outputs": [],
   "source": [
    "mylist = [98,50,17,78]\n",
    "cell_dictionary = {'Tcell':['CD4', 'CD8', 'other'], \n",
    "                   'Bcell':['plasma_cell', 'naive','memory'],\n",
    "                   'monocyte':['DC','macrophage']}"
   ]
  },
  {
   "cell_type": "markdown",
   "id": "c6ecb450",
   "metadata": {},
   "source": [
    "'Verbs' of Python come as functions and methods. Functions are evoked with `FUNCTIONNAME(ARGUMENT)`, for example: \n",
    "`len(mylist)` \n",
    "`type(cell_dictionary)`\n",
    "\n",
    "Functions return some value - modified data.\n",
    "\n",
    "Methods are 'tied' to the data objects themselves and are evoked with `OBJECT.METHOD(ARGUMENT)`. Many methods are applied to the object itself without additional arguments. \n",
    "`cell_dictionary.values()` \n",
    "\n",
    "Methods available for an object are visible when you type `OBJECT.` and use a TAB\n"
   ]
  },
  {
   "cell_type": "code",
   "execution_count": 28,
   "id": "7f1b3ab9",
   "metadata": {},
   "outputs": [
    {
     "data": {
      "text/plain": [
       "'SIMON'"
      ]
     },
     "execution_count": 28,
     "metadata": {},
     "output_type": "execute_result"
    }
   ],
   "source": [
    "\"simon\".upper() # here the object is the string \"simon\"; method .upper turns to upper case"
   ]
  },
  {
   "cell_type": "code",
   "execution_count": 29,
   "id": "e65cce93",
   "metadata": {},
   "outputs": [
    {
     "data": {
      "text/plain": [
       "dict_keys(['Tcell', 'Bcell', 'monocyte'])"
      ]
     },
     "execution_count": 29,
     "metadata": {},
     "output_type": "execute_result"
    }
   ],
   "source": [
    "cell_dictionary.keys() # .keys is a method to extract keys from a dictionary"
   ]
  },
  {
   "cell_type": "markdown",
   "id": "a17d1d05",
   "metadata": {},
   "source": [
    "**!!!Some methods change the data in situ!!!**\n"
   ]
  },
  {
   "cell_type": "code",
   "execution_count": 30,
   "id": "865d7913",
   "metadata": {},
   "outputs": [],
   "source": [
    "mylist.sort() "
   ]
  },
  {
   "cell_type": "markdown",
   "id": "e2844135",
   "metadata": {},
   "source": [
    "What has happened? "
   ]
  },
  {
   "cell_type": "code",
   "execution_count": 31,
   "id": "a5175631",
   "metadata": {},
   "outputs": [
    {
     "data": {
      "text/plain": [
       "[17, 50, 78, 98]"
      ]
     },
     "execution_count": 31,
     "metadata": {},
     "output_type": "execute_result"
    }
   ],
   "source": [
    "mylist"
   ]
  },
  {
   "cell_type": "code",
   "execution_count": 32,
   "id": "4568607d",
   "metadata": {},
   "outputs": [],
   "source": [
    "mylist.append(1) #method .append adds its argument (in ()) at the end of the object"
   ]
  },
  {
   "cell_type": "code",
   "execution_count": 33,
   "id": "1fc32c1e",
   "metadata": {},
   "outputs": [
    {
     "data": {
      "text/plain": [
       "[17, 50, 78, 98, 1]"
      ]
     },
     "execution_count": 33,
     "metadata": {},
     "output_type": "execute_result"
    }
   ],
   "source": [
    "mylist"
   ]
  },
  {
   "cell_type": "markdown",
   "id": "5c7a39d2",
   "metadata": {},
   "source": [
    "### Accessing list elements\n",
    "In `[ ]` indexes of elements you want to access. **Index starts with 0!**\n",
    "It is possible to use range: either start:stop, either start:stop:step"
   ]
  },
  {
   "cell_type": "code",
   "execution_count": 34,
   "id": "384b666b",
   "metadata": {},
   "outputs": [
    {
     "data": {
      "text/plain": [
       "98"
      ]
     },
     "execution_count": 34,
     "metadata": {},
     "output_type": "execute_result"
    }
   ],
   "source": [
    "  mylist[3]\n"
   ]
  },
  {
   "cell_type": "code",
   "execution_count": 35,
   "id": "1561821f",
   "metadata": {},
   "outputs": [
    {
     "data": {
      "text/plain": [
       "17"
      ]
     },
     "execution_count": 35,
     "metadata": {},
     "output_type": "execute_result"
    }
   ],
   "source": [
    "  mylist[0]"
   ]
  },
  {
   "cell_type": "code",
   "execution_count": 36,
   "id": "82abbf04",
   "metadata": {},
   "outputs": [
    {
     "data": {
      "text/plain": [
       "[17, 50]"
      ]
     },
     "execution_count": 36,
     "metadata": {},
     "output_type": "execute_result"
    }
   ],
   "source": [
    "  mylist[0:2]"
   ]
  },
  {
   "cell_type": "markdown",
   "id": "11f87c90",
   "metadata": {},
   "source": [
    "### Getting help in jupyter"
   ]
  },
  {
   "cell_type": "markdown",
   "id": "2606722f",
   "metadata": {},
   "source": [
    "  \n",
    "  `?function`, `?objectname`, `?objectname.method`\n"
   ]
  },
  {
   "cell_type": "markdown",
   "id": "05089155",
   "metadata": {},
   "source": [
    "### Comprehensions"
   ]
  },
  {
   "cell_type": "markdown",
   "id": "82320f5e",
   "metadata": {},
   "source": [
    "  Comprehensions are Python way of 'vectorising' functions or using lapply() family.\n",
    "  We'll be using list comprehesions, but they exist for other objects too\n",
    "  \n",
    " `[new_value for value in lst1]`\n",
    "  \n",
    " `[new_value for value if value in lst2]`    \n"
   ]
  },
  {
   "cell_type": "code",
   "execution_count": 37,
   "id": "daada47f",
   "metadata": {},
   "outputs": [
    {
     "data": {
      "text/plain": [
       "[0, 225, 529]"
      ]
     },
     "execution_count": 37,
     "metadata": {},
     "output_type": "execute_result"
    }
   ],
   "source": [
    "[x*x for x in [0,15,23]]"
   ]
  },
  {
   "cell_type": "code",
   "execution_count": 38,
   "id": "c40ff51a",
   "metadata": {},
   "outputs": [
    {
     "data": {
      "text/plain": [
       "[0, 1, 4, 9, 16, 25, 36, 49, 64]"
      ]
     },
     "execution_count": 38,
     "metadata": {},
     "output_type": "execute_result"
    }
   ],
   "source": [
    "[x*x for x in range(0,9)]"
   ]
  },
  {
   "cell_type": "code",
   "execution_count": 39,
   "id": "9231f025",
   "metadata": {},
   "outputs": [
    {
     "data": {
      "text/plain": [
       "[4, 1, 8]"
      ]
     },
     "execution_count": 39,
     "metadata": {},
     "output_type": "execute_result"
    }
   ],
   "source": [
    "[x + 4 for x in [0, 9, -3, 4] if x*2 < 10]"
   ]
  },
  {
   "cell_type": "markdown",
   "id": "a419693d",
   "metadata": {},
   "source": [
    "### Accessing functions from different packages"
   ]
  },
  {
   "cell_type": "markdown",
   "id": "d5c3c301",
   "metadata": {},
   "source": [
    "Basic Python has a limited set of functions, thankfully the community has been developping packages. After installing a package (via conda or pip), you need to load its content - full or just the functions you want to use.\n",
    "Then you can call these functions, prepending their name with the package name:"
   ]
  },
  {
   "cell_type": "raw",
   "id": "4de05656",
   "metadata": {},
   "source": [
    "#If you want ro run this cell, change cell type in the drop-down menu at the top to 'code' and assign my_csv_file to the location of your csv file\n",
    "\n",
    "import pandas\n",
    "\n",
    "my_csv_file = \"very_important_data.csv\"\n",
    "my_data = pandas.read_csv(my_csv_file)"
   ]
  },
  {
   "cell_type": "markdown",
   "id": "8d963708",
   "metadata": {},
   "source": [
    "If you want to import just a part of a package"
   ]
  },
  {
   "cell_type": "code",
   "execution_count": 40,
   "id": "8f6a3a5c",
   "metadata": {},
   "outputs": [],
   "source": [
    "from pandas import read_csv"
   ]
  },
  {
   "cell_type": "markdown",
   "id": "58c543be",
   "metadata": {},
   "source": [
    "Often, when importing a package, one defines an abbreviated name of the package and uses it instead of the full name"
   ]
  },
  {
   "cell_type": "markdown",
   "id": "c33675ee",
   "metadata": {},
   "source": [
    "#If you want ro run this cell, change cell type in the drop-down menu at the top to 'code' and assign my_csv_file to the location of your csv file\n",
    "\n",
    "my_csv_file = \"very_important_data.csv\"\n",
    "import pandas as pd\n",
    "pd.read_csv()`"
   ]
  },
  {
   "cell_type": "markdown",
   "id": "c6e7c429",
   "metadata": {},
   "source": [
    "### Defining own functions\n",
    "Python recognoses a function because of syntax an code block structure. "
   ]
  },
  {
   "cell_type": "code",
   "execution_count": 41,
   "id": "20a3b99b",
   "metadata": {},
   "outputs": [
    {
     "ename": "SyntaxError",
     "evalue": "invalid syntax (1507101309.py, line 2)",
     "output_type": "error",
     "traceback": [
      "\u001b[0;36m  Input \u001b[0;32mIn [41]\u001b[0;36m\u001b[0m\n\u001b[0;31m    ....\u001b[0m\n\u001b[0m        ^\u001b[0m\n\u001b[0;31mSyntaxError\u001b[0m\u001b[0;31m:\u001b[0m invalid syntax\n"
     ]
    }
   ],
   "source": [
    "def FUNCTIONNAME(arg1, arg2):\n",
    "    ....\n",
    "    return value"
   ]
  },
  {
   "cell_type": "code",
   "execution_count": null,
   "id": "a8afcdf7",
   "metadata": {},
   "outputs": [],
   "source": [
    "def paste_numbers_like_words(num1, num2):\n",
    "    result = str(num1) +str(num2)\n",
    "    return result"
   ]
  },
  {
   "cell_type": "markdown",
   "id": "e352e499",
   "metadata": {},
   "source": [
    "And now call the function with some values:"
   ]
  },
  {
   "cell_type": "code",
   "execution_count": null,
   "id": "ac25b43b",
   "metadata": {},
   "outputs": [],
   "source": [
    "paste_numbers_like_words(34,12)"
   ]
  },
  {
   "cell_type": "markdown",
   "id": "6f83d59f",
   "metadata": {},
   "source": [
    "### For loops\n",
    "Require syntax (for ... in ....:) and block indentation. To assign variables within for loop, intialise a holding structure to write to.\n",
    "    "
   ]
  },
  {
   "cell_type": "code",
   "execution_count": null,
   "id": "275313de",
   "metadata": {},
   "outputs": [],
   "source": [
    "animals = ['elephant', 'cow', 'horse', 'ladybird']\n",
    "animals_with_annotation = [ ]\n",
    "counter = 1\n",
    "\n",
    "for animal in animals: #Here we loop along a list - set or a tuple is also possible\n",
    "    animals_with_annotation.append('This is '+  str(counter) + '. animal, ' + animal)\n",
    "    counter +=1\n",
    "    \n",
    "print(animals_with_annotation)    \n",
    "    "
   ]
  }
 ],
 "metadata": {
  "kernelspec": {
   "display_name": "Python 3 (ipykernel)",
   "language": "python",
   "name": "python3"
  },
  "language_info": {
   "codemirror_mode": {
    "name": "ipython",
    "version": 3
   },
   "file_extension": ".py",
   "mimetype": "text/x-python",
   "name": "python",
   "nbconvert_exporter": "python",
   "pygments_lexer": "ipython3",
   "version": "3.8.12"
  }
 },
 "nbformat": 4,
 "nbformat_minor": 5
}
