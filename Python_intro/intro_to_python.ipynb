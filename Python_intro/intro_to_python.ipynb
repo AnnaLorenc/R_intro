{
 "cells": [
  {
   "cell_type": "markdown",
   "id": "a3f5628a",
   "metadata": {},
   "source": [
    "# Introduction to Python"
   ]
  },
  {
   "cell_type": "markdown",
   "id": "1c2cff33",
   "metadata": {},
   "source": [
    " \n",
    " This is a very rudimentary introduction, to help you follow the scRNAseq workshops. There is a big community of single cell biologists working in Python and even if you are a mainly R person and intend to use Seurat universe/SingleCellExperiment universe, it is worth to understand the code. \n",
    " \n",
    "For a proper Python introduction/course see for example\n",
    "**Software Carpentry courses** \n",
    "https://swcarpentry.github.io/python-novice-inflammation/  \n",
    "http://swcarpentry.github.io/python-novice-gapminder/  \n",
    "Babraham institute Python course  \n",
    "https://www.bioinformatics.babraham.ac.uk/training.html \n",
    "\n",
    "**Instructions  how to install Python and Jupyter:**\n",
    "http://swcarpentry.github.io/python-novice-gapminder/setup.html\n",
    "\n",
    "\n"
   ]
  },
  {
   "cell_type": "markdown",
   "id": "b8ebd4ba",
   "metadata": {},
   "source": [
    "### Jupyter notebook"
   ]
  },
  {
   "cell_type": "markdown",
   "id": "90ccc363",
   "metadata": {},
   "source": [
    "We will be working with Jupyter notebooks as Python programming environment.\n",
    " To install Jupyter on your computer\n",
    " To start a notebook, type jupyter notebook NAME  \n",
    " Cells\n",
    " command mode (cell outline blue) or edit mode\n",
    " Executing a cell content by shift enter or triangle right\n",
    " You can add cells, change their content\n",
    "     # starts a comment\n"
   ]
  },
  {
   "cell_type": "markdown",
   "id": "a256f821",
   "metadata": {},
   "source": [
    "\n",
    "To start a notebook from commandline, type: \n",
    "`jupyter notebook NOTEBOOKNAME`\n",
    "(substitute NOTEBOOKNAME with the name of your .ipyinb file or leave empty if you don't have one yet)\n",
    "\n",
    "In a notebook, code and text (in Markdown format) is located in cells. You can select a cell in **\"edit\"** mode - by clicking in it - it allows you to change cell content (cell outline is green). **\"Command\"** mode let's you execute the cell content (cell outline is blue).\n",
    "To execute cell content, click on it and press SHIFT+ENTER or the triangle from Jupyter menu.\n",
    "\n",
    "After the content was executed, you can enter the cell again by clicking and modify it.\n",
    "\n",
    "Remember to save your changes if you want to keep them.\n",
    "\n",
    "To add new cells, use 'Insert' from the menu, or A (above) B (below) when in the command mode. \n"
   ]
  },
  {
   "cell_type": "markdown",
   "id": "ce4c0a6e",
   "metadata": {},
   "source": [
    "### Data objects in Python"
   ]
  },
  {
   "cell_type": "markdown",
   "id": "92b07783",
   "metadata": {},
   "source": [
    "Assigning variables happens with \" = \"\n",
    "Python has built-in data objects:\n",
    " - scalars - single values\n",
    " `a = 3` \n",
    "  `another_important_value = 'giraffe'`\n",
    " - lists  \n",
    " `mylist = [3, 4, 9.5, 11]`\n",
    " `mylist = [a, 3.5, 'dog']`  \n",
    " - tuples\n",
    " - sets\n",
    "`tree_set = {'birch', 'ash', 'oak'}`  #set has unique elements\n",
    " - dictionaries\n",
    "`simple_dictionary = {'tree'='arbre', 'bee'='abeille', 'bread'='pain'}` \n",
    " \n",
    "Many data objects can be nested within other one, for example here keys of the dictionary are tree names (strings) and values are their numbers (lists of integers)\n",
    "\n",
    "`trees_dictionary = {'birch':[1,4,12], 'ash':[98,2,0], 'oak':[1,2,0]}`\n",
    "\n",
    "Many packages come with specific data containers, build from simpler ones.\n"
   ]
  },
  {
   "cell_type": "markdown",
   "id": "921d6ace",
   "metadata": {},
   "source": [
    "## Functions and methods"
   ]
  },
  {
   "cell_type": "markdown",
   "id": "25d75d43",
   "metadata": {},
   "source": [
    "We create some objects to work with in the following examples"
   ]
  },
  {
   "cell_type": "code",
   "execution_count": 63,
   "id": "b327e503",
   "metadata": {},
   "outputs": [],
   "source": [
    "mylist = [98,50,17,78]\n",
    "cell_dictionary = {'Tcell':['CD4', 'CD8', 'other'], 'Bcell':['plasma_cell', 'other'], 'ILC':['unknown','another']}"
   ]
  },
  {
   "cell_type": "markdown",
   "id": "c6ecb450",
   "metadata": {},
   "source": [
    "'Verbs' of Python come as functions and methods. Functions are evoked with `FUNCTIONNAME(ARGUMENT)`, for example:\n",
    "`len(mylist)` \n",
    "`type(cell_dictionary)`\n",
    "\n",
    "Functions return some value - modified data.\n",
    "\n",
    "Methods are 'tied' to the data objects themselves and are evoked with `OBJECT.METHOD()`. \n",
    "Methods available for an object are visible when you type `OBJECT.` and use a TAB\n"
   ]
  },
  {
   "cell_type": "code",
   "execution_count": 64,
   "id": "7f1b3ab9",
   "metadata": {},
   "outputs": [
    {
     "data": {
      "text/plain": [
       "'SIMON'"
      ]
     },
     "execution_count": 64,
     "metadata": {},
     "output_type": "execute_result"
    }
   ],
   "source": [
    "\"simon\".upper() # here the object is the string \"simon\"; method .upper turns to upper case"
   ]
  },
  {
   "cell_type": "code",
   "execution_count": 65,
   "id": "e65cce93",
   "metadata": {},
   "outputs": [
    {
     "data": {
      "text/plain": [
       "dict_keys(['Tcell', 'Bcell', 'ILC'])"
      ]
     },
     "execution_count": 65,
     "metadata": {},
     "output_type": "execute_result"
    }
   ],
   "source": [
    "cell_dictionary.keys() # .keys is a method to extract keys from a dictionary"
   ]
  },
  {
   "cell_type": "markdown",
   "id": "a17d1d05",
   "metadata": {},
   "source": [
    "!!!Some methods change the data in situ!!!\n"
   ]
  },
  {
   "cell_type": "code",
   "execution_count": 66,
   "id": "865d7913",
   "metadata": {},
   "outputs": [],
   "source": [
    "mylist.sort() "
   ]
  },
  {
   "cell_type": "markdown",
   "id": "e2844135",
   "metadata": {},
   "source": [
    "What has happened? "
   ]
  },
  {
   "cell_type": "code",
   "execution_count": 67,
   "id": "a5175631",
   "metadata": {},
   "outputs": [
    {
     "data": {
      "text/plain": [
       "[17, 50, 78, 98]"
      ]
     },
     "execution_count": 67,
     "metadata": {},
     "output_type": "execute_result"
    }
   ],
   "source": [
    "mylist"
   ]
  },
  {
   "cell_type": "code",
   "execution_count": 68,
   "id": "4568607d",
   "metadata": {},
   "outputs": [],
   "source": [
    "mylist.append(1) #method .append adds its argument (in ()) at the end of the object"
   ]
  },
  {
   "cell_type": "code",
   "execution_count": 69,
   "id": "1fc32c1e",
   "metadata": {},
   "outputs": [
    {
     "data": {
      "text/plain": [
       "[17, 50, 78, 98, 1]"
      ]
     },
     "execution_count": 69,
     "metadata": {},
     "output_type": "execute_result"
    }
   ],
   "source": [
    "mylist"
   ]
  },
  {
   "cell_type": "markdown",
   "id": "5c7a39d2",
   "metadata": {},
   "source": [
    "### Accessing list elements\n",
    "In [] indexes of elements you want to access. Index starts with 0! \n",
    "It is possible to use range: either start:stop, either start:stop:step"
   ]
  },
  {
   "cell_type": "code",
   "execution_count": 70,
   "id": "384b666b",
   "metadata": {},
   "outputs": [
    {
     "data": {
      "text/plain": [
       "98"
      ]
     },
     "execution_count": 70,
     "metadata": {},
     "output_type": "execute_result"
    }
   ],
   "source": [
    "  mylist[3]\n"
   ]
  },
  {
   "cell_type": "code",
   "execution_count": 71,
   "id": "1561821f",
   "metadata": {},
   "outputs": [
    {
     "data": {
      "text/plain": [
       "17"
      ]
     },
     "execution_count": 71,
     "metadata": {},
     "output_type": "execute_result"
    }
   ],
   "source": [
    "  mylist[0]"
   ]
  },
  {
   "cell_type": "code",
   "execution_count": 72,
   "id": "82abbf04",
   "metadata": {},
   "outputs": [
    {
     "data": {
      "text/plain": [
       "[17, 50]"
      ]
     },
     "execution_count": 72,
     "metadata": {},
     "output_type": "execute_result"
    }
   ],
   "source": [
    "  mylist[0:2]"
   ]
  },
  {
   "cell_type": "markdown",
   "id": "11f87c90",
   "metadata": {},
   "source": [
    "### Getting help in jupyter"
   ]
  },
  {
   "cell_type": "code",
   "execution_count": 73,
   "id": "45ccb486",
   "metadata": {},
   "outputs": [
    {
     "name": "stdout",
     "output_type": "stream",
     "text": [
      "Object `function, ?objectname, ?objectname.method` not found.\n"
     ]
    }
   ],
   "source": [
    "  \n",
    "  ?function, ?objectname, ?objectname.method\n"
   ]
  },
  {
   "cell_type": "markdown",
   "id": "05089155",
   "metadata": {},
   "source": [
    "### Comprehensions"
   ]
  },
  {
   "cell_type": "markdown",
   "id": "82320f5e",
   "metadata": {},
   "source": [
    "  Comprehensions are Python way of 'vectorising' functions or using lapply() family.\n",
    "  We'll be using list comprehesions, but they exist for other objects too\n",
    "  \n",
    " [new_value for value in lst1]\n",
    "  \n",
    " [new_value for value if value in lst2]    \n"
   ]
  },
  {
   "cell_type": "markdown",
   "id": "a419693d",
   "metadata": {},
   "source": [
    "### Accessing functions from different packages"
   ]
  },
  {
   "cell_type": "code",
   "execution_count": null,
   "id": "1f60450b",
   "metadata": {},
   "outputs": [],
   "source": [
    "\n",
    "import xx as x\n",
    "import x\n",
    "from x import y\n",
    "\n",
    "\n",
    "panda.\n",
    "pd."
   ]
  },
  {
   "cell_type": "code",
   "execution_count": null,
   "id": "20a3b99b",
   "metadata": {},
   "outputs": [],
   "source": [
    "def FUNCTIONNAME(arg1, arg2):\n",
    "    ....\n",
    "    return"
   ]
  },
  {
   "cell_type": "code",
   "execution_count": null,
   "id": "a8afcdf7",
   "metadata": {},
   "outputs": [],
   "source": []
  },
  {
   "cell_type": "code",
   "execution_count": null,
   "id": "5315fe45",
   "metadata": {},
   "outputs": [],
   "source": []
  }
 ],
 "metadata": {
  "kernelspec": {
   "display_name": "Python 3 (ipykernel)",
   "language": "python",
   "name": "python3"
  },
  "language_info": {
   "codemirror_mode": {
    "name": "ipython",
    "version": 3
   },
   "file_extension": ".py",
   "mimetype": "text/x-python",
   "name": "python",
   "nbconvert_exporter": "python",
   "pygments_lexer": "ipython3",
   "version": "3.8.12"
  }
 },
 "nbformat": 4,
 "nbformat_minor": 5
}
