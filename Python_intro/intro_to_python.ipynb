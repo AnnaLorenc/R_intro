{
 "cells": [
  {
   "cell_type": "markdown",
   "id": "a3f5628a",
   "metadata": {},
   "source": [
    "# Introduction to Python"
   ]
  },
  {
   "cell_type": "markdown",
   "id": "1c2cff33",
   "metadata": {},
   "source": [
    " \n",
    " This is a very rudimentary introduction, to help you follow the scRNAseq workshops. There is a big community of single cell biologists working in Python and even if you are a mainly R person and intend to use Seurat universe/SingleCellExperiment universe, it is worth to understand the code. \n",
    " \n",
    "For a proper Python introduction/course see for example: \n",
    "\n",
    "**Software Carpentry courses**  \n",
    "\n",
    "https://swcarpentry.github.io/python-novice-inflammation/  \n",
    "http://swcarpentry.github.io/python-novice-gapminder/  \n",
    "\n",
    "Babraham institute Python course  \n",
    "\n",
    "https://www.bioinformatics.babraham.ac.uk/training.html \n",
    "\n",
    "\n",
    "How to think like a computer scientist  \n",
    "http://openbookproject.net/thinkcs/python/english3e/\n",
    "\n",
    "Whirlwind tour of Python - aimed at people with experience in other programming languages  \n",
    "https://nbviewer.org/github/jakevdp/WhirlwindTourOfPython/blob/master/Index.ipynb\n",
    "\n",
    "**Instructions  how to install Python and Jupyter:**  \n",
    "\n",
    "http://swcarpentry.github.io/python-novice-gapminder/setup.html \n",
    "https://realpython.com/jupyter-notebook-introduction/#starting-the-jupyter-notebook-server \n",
    "\n",
    "\n"
   ]
  },
  {
   "cell_type": "markdown",
   "id": "b8ebd4ba",
   "metadata": {},
   "source": [
    "### Jupyter notebook"
   ]
  },
  {
   "cell_type": "markdown",
   "id": "a256f821",
   "metadata": {},
   "source": [
    "\n",
    "To start a notebook from commandline, type: \n",
    "`jupyter notebook NOTEBOOKNAME`\n",
    "(substitute NOTEBOOKNAME with the name of your .ipyinb file or leave empty if you don't have one yet).\n",
    "\n",
    "In a notebook, code and text (in Markdown format) is located in cells. You can select a cell in **\"edit\"** mode - by clicking in it - it allows you to change cell content (cell outline is green). **\"Command\"** mode let's you execute the cell content (cell outline is blue), move cells around etc.\n",
    "`To execute cell content, click on it and press SHIFT+ENTER or the triangle from Jupyter buttons.`\n",
    "\n",
    "After the content was executed, you can enter the cell again by clicking and modify it.\n",
    "\n",
    "Remember to save your changes if you want to keep them in the notebook!\n",
    "\n",
    "To add new cells, use 'Insert' from the menu, or A (above) B (below), when in the command mode. \n",
    "\n",
    "Cells  contain either  code, either non-interpreted text (see Markdown and Code in the drop down menu). Within code # starts a comment.\n"
   ]
  },
  {
   "cell_type": "markdown",
   "id": "ce4c0a6e",
   "metadata": {},
   "source": [
    "### Data objects in Python"
   ]
  },
  {
   "cell_type": "markdown",
   "id": "92b07783",
   "metadata": {},
   "source": [
    "Assigning variables happens with \" = \"\n",
    "Python has built-in data objects:\n",
    " - scalars - single values\n",
    " `a = 3` \n",
    "  `another_important_value = 'giraffe'`\n",
    " - lists  \n",
    " `mylist = [3, 4, 9.5, 11]`\n",
    " `mylist = [a, 3.5, 'dog']`  \n",
    " - tuples \n",
    " `julia = (\"Julia\", \"Roberts\", 1967, \"Duplicity\", 2009, \"Actress\", \"Atlanta, Georgia\")` #unmutable set of elements to be hold together\n",
    " - sets\n",
    "`tree_set = {'birch', 'ash', 'oak'}`  #set has unique elements\n",
    " - dictionaries\n",
    "`simple_dictionary = {'tree'='arbre', 'bee'='abeille', 'bread'='pain'}` \n",
    " \n",
    "Many data objects can be nested within other one, for example here keys of the dictionary are tree names (strings) and values are their numbers (lists of integers)\n",
    "\n",
    "`trees_dictionary = {'birch':[1,4,12], 'ash':[98,2,0], 'oak':[1,2,0]}`\n",
    "\n",
    "Many packages come with specific data containers, build from simpler ones.\n"
   ]
  },
  {
   "cell_type": "markdown",
   "id": "921d6ace",
   "metadata": {},
   "source": [
    "### Functions and methods"
   ]
  },
  {
   "cell_type": "markdown",
   "id": "25d75d43",
   "metadata": {},
   "source": [
    "We create some objects to work with in the following examples:"
   ]
  },
  {
   "cell_type": "code",
   "execution_count": 27,
   "id": "b327e503",
   "metadata": {},
   "outputs": [],
   "source": [
    "mylist = [98,50,17,78]\n",
    "cell_dictionary = {'Tcell':['CD4', 'CD8', 'other'], \n",
    "                   'Bcell':['plasma_cell', 'naive','memory'],\n",
    "                   'monocyte':['DC','macrophage']}"
   ]
  },
  {
   "cell_type": "markdown",
   "id": "c6ecb450",
   "metadata": {},
   "source": [
    "'Verbs' of Python come as functions and methods. Functions are evoked with `FUNCTIONNAME(ARGUMENT)`, for example: \n",
    "`len(mylist)` \n",
    "`type(cell_dictionary)`\n",
    "\n",
    "Functions return some value - modified data.\n",
    "\n",
    "Methods are 'tied' to the data objects themselves and are evoked with `OBJECT.METHOD(ARGUMENT)`. Many methods are applied to the object itself without additional arguments. \n",
    "`cell_dictionary.values()` \n",
    "\n",
    "Methods available for an object are visible when you type `OBJECT.` and use a TAB\n"
   ]
  },
  {
   "cell_type": "code",
   "execution_count": 28,
   "id": "7f1b3ab9",
   "metadata": {},
   "outputs": [
    {
     "data": {
      "text/plain": [
       "'SIMON'"
      ]
     },
     "execution_count": 28,
     "metadata": {},
     "output_type": "execute_result"
    }
   ],
   "source": [
    "\"simon\".upper() # here the object is the string \"simon\"; method .upper turns to upper case"
   ]
  },
  {
   "cell_type": "code",
   "execution_count": 29,
   "id": "e65cce93",
   "metadata": {},
   "outputs": [
    {
     "data": {
      "text/plain": [
       "dict_keys(['Tcell', 'Bcell', 'monocyte'])"
      ]
     },
     "execution_count": 29,
     "metadata": {},
     "output_type": "execute_result"
    }
   ],
   "source": [
    "cell_dictionary.keys() # .keys is a method to extract keys from a dictionary"
   ]
  },
  {
   "cell_type": "markdown",
   "id": "a17d1d05",
   "metadata": {},
   "source": [
    "**!!!Some methods change the data in situ!!!**\n"
   ]
  },
  {
   "cell_type": "code",
   "execution_count": 30,
   "id": "865d7913",
   "metadata": {},
   "outputs": [],
   "source": [
    "mylist.sort() "
   ]
  },
  {
   "cell_type": "markdown",
   "id": "e2844135",
   "metadata": {},
   "source": [
    "What has happened? "
   ]
  },
  {
   "cell_type": "code",
   "execution_count": 31,
   "id": "a5175631",
   "metadata": {},
   "outputs": [
    {
     "data": {
      "text/plain": [
       "[17, 50, 78, 98]"
      ]
     },
     "execution_count": 31,
     "metadata": {},
     "output_type": "execute_result"
    }
   ],
   "source": [
    "mylist"
   ]
  },
  {
   "cell_type": "code",
   "execution_count": 32,
   "id": "4568607d",
   "metadata": {},
   "outputs": [],
   "source": [
    "mylist.append(1) #method .append adds its argument (in ()) at the end of the object"
   ]
  },
  {
   "cell_type": "code",
   "execution_count": 33,
   "id": "1fc32c1e",
   "metadata": {},
   "outputs": [
    {
     "data": {
      "text/plain": [
       "[17, 50, 78, 98, 1]"
      ]
     },
     "execution_count": 33,
     "metadata": {},
     "output_type": "execute_result"
    }
   ],
   "source": [
    "mylist"
   ]
  },
  {
   "cell_type": "markdown",
   "id": "5c7a39d2",
   "metadata": {},
   "source": [
    "### Accessing list elements\n",
    "In `[ ]` indexes of elements you want to access. **Index starts with 0!**\n",
    "It is possible to use range: either start:stop, either start:stop:step"
   ]
  },
  {
   "cell_type": "code",
   "execution_count": 34,
   "id": "384b666b",
   "metadata": {},
   "outputs": [
    {
     "data": {
      "text/plain": [
       "98"
      ]
     },
     "execution_count": 34,
     "metadata": {},
     "output_type": "execute_result"
    }
   ],
   "source": [
    "  mylist[3]"
   ]
  },
  {
   "cell_type": "code",
   "execution_count": 35,
   "id": "1561821f",
   "metadata": {},
   "outputs": [
    {
     "data": {
      "text/plain": [
       "17"
      ]
     },
     "execution_count": 35,
     "metadata": {},
     "output_type": "execute_result"
    }
   ],
   "source": [
    "  mylist[0]"
   ]
  },
  {
   "cell_type": "code",
   "execution_count": 36,
   "id": "82abbf04",
   "metadata": {},
   "outputs": [
    {
     "data": {
      "text/plain": [
       "[17, 50]"
      ]
     },
     "execution_count": 36,
     "metadata": {},
     "output_type": "execute_result"
    }
   ],
   "source": [
    "  mylist[0:2]"
   ]
  },
  {
   "cell_type": "markdown",
   "id": "11f87c90",
   "metadata": {},
   "source": [
    "### Getting help in jupyter"
   ]
  },
  {
   "cell_type": "markdown",
   "id": "2606722f",
   "metadata": {},
   "source": [
    "  \n",
    "  `?function`, `?objectname`, `?objectname.method`\n"
   ]
  },
  {
   "cell_type": "markdown",
   "id": "05089155",
   "metadata": {},
   "source": [
    "### Comprehensions"
   ]
  },
  {
   "cell_type": "markdown",
   "id": "82320f5e",
   "metadata": {},
   "source": [
    "  Comprehensions are Python way of 'vectorising' functions or using lapply() family.\n",
    "  We'll be using list comprehesions, but they exist for other objects too\n",
    "  \n",
    " `[new_value for value in lst1]`\n",
    "  \n",
    " `[new_value for value if value in lst2]`    \n"
   ]
  },
  {
   "cell_type": "code",
   "execution_count": 37,
   "id": "daada47f",
   "metadata": {},
   "outputs": [
    {
     "data": {
      "text/plain": [
       "[0, 225, 529]"
      ]
     },
     "execution_count": 37,
     "metadata": {},
     "output_type": "execute_result"
    }
   ],
   "source": [
    "[x*x for x in [0,15,23]]"
   ]
  },
  {
   "cell_type": "code",
   "execution_count": 38,
   "id": "c40ff51a",
   "metadata": {},
   "outputs": [
    {
     "data": {
      "text/plain": [
       "[0, 1, 4, 9, 16, 25, 36, 49, 64]"
      ]
     },
     "execution_count": 38,
     "metadata": {},
     "output_type": "execute_result"
    }
   ],
   "source": [
    "[x*x for x in range(0,9)]"
   ]
  },
  {
   "cell_type": "code",
   "execution_count": 39,
   "id": "9231f025",
   "metadata": {},
   "outputs": [
    {
     "data": {
      "text/plain": [
       "[4, 1, 8]"
      ]
     },
     "execution_count": 39,
     "metadata": {},
     "output_type": "execute_result"
    }
   ],
   "source": [
    "[x + 4 for x in [0, 9, -3, 4] if x*2 < 10]"
   ]
  },
  {
   "cell_type": "markdown",
   "id": "a419693d",
   "metadata": {},
   "source": [
    "### Accessing functions from different packages"
   ]
  },
  {
   "cell_type": "markdown",
   "id": "d5c3c301",
   "metadata": {},
   "source": [
    "Basic Python has a limited set of functions, thankfully the community has been developping packages. After installing a package (via conda or pip), you need to load its content - full or just the functions you want to use.\n",
    "Then you can call these functions, prepending their name with the package name:"
   ]
  },
  {
   "cell_type": "code",
   "execution_count": null,
   "id": "e99f59a8",
   "metadata": {},
   "outputs": [],
   "source": [
    "import pandas\n",
    "\n",
    "my_csv_file = \"very_important_data.csv\" #if you want to run this cell, please assign your existing csv file\n",
    "my_data = pandas.read_csv(my_csv_file)"
   ]
  },
  {
   "cell_type": "markdown",
   "id": "8d963708",
   "metadata": {},
   "source": [
    "If you want to import just a part of a package:"
   ]
  },
  {
   "cell_type": "code",
   "execution_count": 40,
   "id": "8f6a3a5c",
   "metadata": {},
   "outputs": [],
   "source": [
    "from pandas import read_csv"
   ]
  },
  {
   "cell_type": "markdown",
   "id": "58c543be",
   "metadata": {},
   "source": [
    "Often, when importing a package, one defines an abbreviated name of the package and uses it instead of the full name:"
   ]
  },
  {
   "cell_type": "code",
   "execution_count": null,
   "id": "af883b60",
   "metadata": {},
   "outputs": [],
   "source": [
    "import pandas as pd\n",
    "\n",
    "my_csv_file = \"very_important_data.csv\" #if you want to run this cell, please assign your existing csv file\n",
    "pd.read_csv(my_csv_file)  "
   ]
  },
  {
   "cell_type": "markdown",
   "id": "c6e7c429",
   "metadata": {},
   "source": [
    "### Defining own functions\n",
    "Python recognises a function because of syntax an code block structure. "
   ]
  },
  {
   "cell_type": "code",
   "execution_count": 2,
   "id": "20a3b99b",
   "metadata": {},
   "outputs": [],
   "source": [
    "def FUNCTIONNAME(arg1, arg2):\n",
    "    ...\n",
    "    return value"
   ]
  },
  {
   "cell_type": "code",
   "execution_count": 3,
   "id": "a8afcdf7",
   "metadata": {},
   "outputs": [],
   "source": [
    "def paste_numbers_like_words(num1, num2):\n",
    "    result = str(num1) +str(num2)\n",
    "    return result"
   ]
  },
  {
   "cell_type": "markdown",
   "id": "e352e499",
   "metadata": {},
   "source": [
    "And now call the function with some values:"
   ]
  },
  {
   "cell_type": "code",
   "execution_count": 4,
   "id": "ac25b43b",
   "metadata": {},
   "outputs": [
    {
     "data": {
      "text/plain": [
       "'3412'"
      ]
     },
     "execution_count": 4,
     "metadata": {},
     "output_type": "execute_result"
    }
   ],
   "source": [
    "paste_numbers_like_words(34,12)"
   ]
  },
  {
   "cell_type": "markdown",
   "id": "6f83d59f",
   "metadata": {},
   "source": [
    "### For loops\n",
    "Require syntax (for ... in ....:) and block indentation. To assign variables within for loop, intialise a holding structure to write to.\n",
    "    "
   ]
  },
  {
   "cell_type": "code",
   "execution_count": 5,
   "id": "275313de",
   "metadata": {
    "scrolled": true
   },
   "outputs": [
    {
     "name": "stdout",
     "output_type": "stream",
     "text": [
      "['This is 1. animal, elephant', 'This is 2. animal, cow', 'This is 3. animal, horse', 'This is 4. animal, ladybird']\n"
     ]
    }
   ],
   "source": [
    "animals = ['elephant', 'cow', 'horse', 'ladybird']\n",
    "animals_with_annotation = [ ]\n",
    "counter = 1\n",
    "\n",
    "for animal in animals: #Here we loop along a list - set or a tuple is also possible\n",
    "    animals_with_annotation.append('This is '+  str(counter) + '. animal, ' + animal)\n",
    "    counter +=1\n",
    "    \n",
    "print(animals_with_annotation)    "
   ]
  },
  {
   "cell_type": "code",
   "execution_count": 1,
   "id": "15cb1390",
   "metadata": {},
   "outputs": [],
   "source": [
    "import pandas"
   ]
  },
  {
   "cell_type": "code",
   "execution_count": 2,
   "id": "fd01f140",
   "metadata": {},
   "outputs": [],
   "source": [
    "file='/Users/al16/Documents/teaching/ENLIGHTEN_22/tutorials/R_intro/working_dir/data/20-07-25patients_metadatav2.csv'\n",
    "patent_data=pandas.read_csv(file)"
   ]
  },
  {
   "cell_type": "code",
   "execution_count": 25,
   "id": "8d63a9f5",
   "metadata": {},
   "outputs": [
    {
     "data": {
      "text/plain": [
       "patient_id                                 128\n",
       "class_dss                                  128\n",
       "seropos                                    127\n",
       "class_seropos_control_symptoms              24\n",
       "age                                        128\n",
       "sex                                        128\n",
       "BMI                                         72\n",
       "peak_WHO_ordinal_scale                     128\n",
       "peak_WHO_severity                           96\n",
       "covid_ip_bleed_01_WHO_score                 73\n",
       "trajectory_next_7days_post_Covidbleed01     57\n",
       "smoker                                      73\n",
       "diabetes_y_or_n                             73\n",
       "dtype: int64"
      ]
     },
     "execution_count": 25,
     "metadata": {},
     "output_type": "execute_result"
    }
   ],
   "source": [
    "patent_data.count()"
   ]
  },
  {
   "cell_type": "code",
   "execution_count": 21,
   "id": "f7a82503",
   "metadata": {},
   "outputs": [
    {
     "data": {
      "text/plain": [
       "array([[<AxesSubplot:title={'center':'peak_WHO_ordinal_scale'}>]],\n",
       "      dtype=object)"
      ]
     },
     "execution_count": 21,
     "metadata": {},
     "output_type": "execute_result"
    },
    {
     "data": {
      "image/png": "[encoded data removed]",
      "text/plain": [
       "<Figure size 432x288 with 1 Axes>"
      ]
     },
     "metadata": {
      "needs_background": "light"
     },
     "output_type": "display_data"
    }
   ],
   "source": [
    "patent_data.hist('peak_WHO_ordinal_scale')"
   ]
  },
  {
   "cell_type": "code",
   "execution_count": 19,
   "id": "9662ea47",
   "metadata": {},
   "outputs": [
    {
     "data": {
      "text/html": [
       "<div>\n",
       "<style scoped>\n",
       "    .dataframe tbody tr th:only-of-type {\n",
       "        vertical-align: middle;\n",
       "    }\n",
       "\n",
       "    .dataframe tbody tr th {\n",
       "        vertical-align: top;\n",
       "    }\n",
       "\n",
       "    .dataframe thead th {\n",
       "        text-align: right;\n",
       "    }\n",
       "</style>\n",
       "<table border=\"1\" class=\"dataframe\">\n",
       "  <thead>\n",
       "    <tr style=\"text-align: right;\">\n",
       "      <th></th>\n",
       "      <th>patient_id</th>\n",
       "      <th>class_dss</th>\n",
       "      <th>seropos</th>\n",
       "      <th>class_seropos_control_symptoms</th>\n",
       "      <th>age</th>\n",
       "      <th>sex</th>\n",
       "      <th>BMI</th>\n",
       "      <th>peak_WHO_ordinal_scale</th>\n",
       "      <th>peak_WHO_severity</th>\n",
       "      <th>covid_ip_bleed_01_WHO_score</th>\n",
       "      <th>trajectory_next_7days_post_Covidbleed01</th>\n",
       "      <th>smoker</th>\n",
       "      <th>diabetes_y_or_n</th>\n",
       "    </tr>\n",
       "  </thead>\n",
       "  <tbody>\n",
       "    <tr>\n",
       "      <th>0</th>\n",
       "      <td>p094</td>\n",
       "      <td>Low</td>\n",
       "      <td>pos</td>\n",
       "      <td>NaN</td>\n",
       "      <td>46-55</td>\n",
       "      <td>F</td>\n",
       "      <td>30-34</td>\n",
       "      <td>2</td>\n",
       "      <td>Low</td>\n",
       "      <td>2.0</td>\n",
       "      <td>NaN</td>\n",
       "      <td>Y</td>\n",
       "      <td>Y</td>\n",
       "    </tr>\n",
       "    <tr>\n",
       "      <th>1</th>\n",
       "      <td>p104</td>\n",
       "      <td>Low</td>\n",
       "      <td>pos</td>\n",
       "      <td>NaN</td>\n",
       "      <td>46-55</td>\n",
       "      <td>F</td>\n",
       "      <td>35 and above</td>\n",
       "      <td>1</td>\n",
       "      <td>Low</td>\n",
       "      <td>1.0</td>\n",
       "      <td>NaN</td>\n",
       "      <td>N</td>\n",
       "      <td>N</td>\n",
       "    </tr>\n",
       "    <tr>\n",
       "      <th>3</th>\n",
       "      <td>p106</td>\n",
       "      <td>Low</td>\n",
       "      <td>pos</td>\n",
       "      <td>NaN</td>\n",
       "      <td>36-45</td>\n",
       "      <td>F</td>\n",
       "      <td>20-24</td>\n",
       "      <td>1</td>\n",
       "      <td>Low</td>\n",
       "      <td>1.0</td>\n",
       "      <td>NaN</td>\n",
       "      <td>N</td>\n",
       "      <td>N</td>\n",
       "    </tr>\n",
       "    <tr>\n",
       "      <th>4</th>\n",
       "      <td>p109</td>\n",
       "      <td>Low</td>\n",
       "      <td>pos</td>\n",
       "      <td>NaN</td>\n",
       "      <td>66-75</td>\n",
       "      <td>F</td>\n",
       "      <td>25-29</td>\n",
       "      <td>1</td>\n",
       "      <td>Low</td>\n",
       "      <td>1.0</td>\n",
       "      <td>NaN</td>\n",
       "      <td>N</td>\n",
       "      <td>N</td>\n",
       "    </tr>\n",
       "    <tr>\n",
       "      <th>5</th>\n",
       "      <td>p112</td>\n",
       "      <td>Low</td>\n",
       "      <td>pos</td>\n",
       "      <td>NaN</td>\n",
       "      <td>66-75</td>\n",
       "      <td>F</td>\n",
       "      <td>20-24</td>\n",
       "      <td>1</td>\n",
       "      <td>Low</td>\n",
       "      <td>1.0</td>\n",
       "      <td>NaN</td>\n",
       "      <td>N</td>\n",
       "      <td>N</td>\n",
       "    </tr>\n",
       "  </tbody>\n",
       "</table>\n",
       "</div>"
      ],
      "text/plain": [
       "  patient_id class_dss seropos class_seropos_control_symptoms    age sex  \\\n",
       "0       p094       Low     pos                            NaN  46-55   F   \n",
       "1       p104       Low     pos                            NaN  46-55   F   \n",
       "3       p106       Low     pos                            NaN  36-45   F   \n",
       "4       p109       Low     pos                            NaN  66-75   F   \n",
       "5       p112       Low     pos                            NaN  66-75   F   \n",
       "\n",
       "            BMI  peak_WHO_ordinal_scale peak_WHO_severity  \\\n",
       "0         30-34                       2               Low   \n",
       "1  35 and above                       1               Low   \n",
       "3         20-24                       1               Low   \n",
       "4         25-29                       1               Low   \n",
       "5         20-24                       1               Low   \n",
       "\n",
       "   covid_ip_bleed_01_WHO_score trajectory_next_7days_post_Covidbleed01 smoker  \\\n",
       "0                          2.0                                     NaN      Y   \n",
       "1                          1.0                                     NaN      N   \n",
       "3                          1.0                                     NaN      N   \n",
       "4                          1.0                                     NaN      N   \n",
       "5                          1.0                                     NaN      N   \n",
       "\n",
       "  diabetes_y_or_n  \n",
       "0               Y  \n",
       "1               N  \n",
       "3               N  \n",
       "4               N  \n",
       "5               N  "
      ]
     },
     "execution_count": 19,
     "metadata": {},
     "output_type": "execute_result"
    }
   ],
   "source": [
    "patent_data.loc[(patent_data.class_dss == 'Low') & (patent_data.sex =='F')]"
   ]
  },
  {
   "cell_type": "code",
   "execution_count": null,
   "id": "ce91edd6",
   "metadata": {},
   "outputs": [],
   "source": []
  }
 ],
 "metadata": {
  "kernelspec": {
   "display_name": "Python 3 (ipykernel)",
   "language": "python",
   "name": "python3"
  },
  "language_info": {
   "codemirror_mode": {
    "name": "ipython",
    "version": 3
   },
   "file_extension": ".py",
   "mimetype": "text/x-python",
   "name": "python",
   "nbconvert_exporter": "python",
   "pygments_lexer": "ipython3",
   "version": "3.8.12"
  }
 },
 "nbformat": 4,
 "nbformat_minor": 5
}
